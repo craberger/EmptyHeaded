{
 "cells": [
  {
   "cell_type": "markdown",
   "metadata": {},
   "source": [
    "<img src=\"figs/eh_logo.png\" style=\"width: 200px;\">\n",
    "\n",
    "# EmptyHeaded + Aggregations\n",
    "\n",
    "We add basic aggregations to EmptyHeaded following the work of [Puttagunta et al](http://arxiv.org/abs/1508.07532). The key optimization that we use in EmptyHeaded which other worst-case optimal join processing engines do not use is the ability perform aggregations. We use *generalized hypertree decompositions* (GHDs) as our query plans in EmptyHeaded (thus our our equivalent of relational algebra). This allows us to treat aggregations as tropical semirings that support standard aggregation operations like $\\sum,\\times,\\max,\\min$.  "
   ]
  },
  {
   "cell_type": "markdown",
   "metadata": {},
   "source": [
    "## Annotations\n",
    "\n",
    "The sets of values in the trie can optionally be associated with data values (1-1 mapping) which are used in aggregations. We call these associated values *annotations* following the work of [Green et al.](http://dl.acm.org/citation.cfm?id=1265535). For example, a two level trie annotated with a float value represents a sparse matrix or graph with edge properties. This simple collection of operations over the trie data structure is sufficient to express a wide variety of workloads. "
   ]
  },
  {
   "cell_type": "markdown",
   "metadata": {},
   "source": [
    "## Annotations\n",
    "\n",
    "These annotations support aggregations from\n",
    "any semiring (a generalization of natural numbers equipped with a\n",
    "notion of addition and multiplication). This enables EmptyHeaded to support\n",
    "classic aggregations such as $SUM$, $MIN$, or $COUNT$, but also\n",
    "enables \\EH to support more complicated computations such as gradient\n",
    "descent. To specify the annotation, one uses a semicolon in the head\n",
    "of the rule, e.g. $q(x, y; z:int)$ specifies that each $x,y$ pair will\n",
    "be associated with an integer value with alias $z$ similar to a GROUP\n",
    "BY in SQL. In addition, the user expresses the aggregation operation\n",
    "in the body of the rule. The user can specify an initialization value\n",
    "as any expression over the tuples' values and constants, while common\n",
    "aggregates have default values. A typical\n",
    "count query is shown next."
   ]
  },
  {
   "cell_type": "markdown",
   "metadata": {},
   "source": [
    "## Loading the database\n",
    "\n",
    "First lets load a database to run the aggregation query over."
   ]
  },
  {
   "cell_type": "code",
   "execution_count": 1,
   "metadata": {
    "collapsed": false
   },
   "outputs": [],
   "source": [
    "import emptyheaded\n",
    "#emptyheaded.createDB(\"$EMPTYHEADED_HOME/examples/graph/data/facebook/config.json\")\n",
    "emptyheaded.loadDB(\"$EMPTYHEADED_HOME/examples/graph/data/facebook/db\")"
   ]
  },
  {
   "cell_type": "markdown",
   "metadata": {},
   "source": [
    "## Composing the query\n",
    "\n",
    "Now that the database is loaded lets write a simple aggregation query. We call this query the Barbell query or $B_{3,1}$ as it finds all 3-cliques connected by a path of length one. The syntax below shows that the annotation is first specified in the head (e.g. `m:long`) with the aggregation appearing in the body of the rule (e.g. `COUNT(*)`). Lets find out how many barbells are in our facebook dataset."
   ]
  },
  {
   "cell_type": "code",
   "execution_count": 2,
   "metadata": {
    "collapsed": false
   },
   "outputs": [],
   "source": [
    "emptyheaded.query(\"Barbell(;m:long) :- Edge(a,b),Edge(b,c),Edge(a,c),Edge(a,x),Edge(x,y),Edge(y,z),Edge(x,z);m=<<COUNT(*)>>.\")"
   ]
  },
  {
   "cell_type": "markdown",
   "metadata": {},
   "source": [
    "## Inspecting the result\n",
    "\n",
    "As before the data comes back in the form of a Pandas dataframe. The caveat with annotations is that they are always the last column of the dataframe and labelled as an `annotation`."
   ]
  },
  {
   "cell_type": "code",
   "execution_count": 3,
   "metadata": {
    "collapsed": false
   },
   "outputs": [
    {
     "data": {
      "text/html": [
       "<div>\n",
       "<table border=\"1\" class=\"dataframe\">\n",
       "  <thead>\n",
       "    <tr style=\"text-align: right;\">\n",
       "      <th></th>\n",
       "      <th>annotation</th>\n",
       "    </tr>\n",
       "  </thead>\n",
       "  <tbody>\n",
       "    <tr>\n",
       "      <th>0</th>\n",
       "      <td>20371831447136</td>\n",
       "    </tr>\n",
       "  </tbody>\n",
       "</table>\n",
       "</div>"
      ],
      "text/plain": [
       "       annotation\n",
       "0  20371831447136"
      ]
     },
     "execution_count": 3,
     "metadata": {},
     "output_type": "execute_result"
    }
   ],
   "source": [
    "emptyheaded.fetchData(\"Barbell\")"
   ]
  },
  {
   "cell_type": "code",
   "execution_count": null,
   "metadata": {
    "collapsed": true
   },
   "outputs": [],
   "source": []
  }
 ],
 "metadata": {
  "kernelspec": {
   "display_name": "Python 2",
   "language": "python",
   "name": "python2"
  },
  "language_info": {
   "codemirror_mode": {
    "name": "ipython",
    "version": 2
   },
   "file_extension": ".py",
   "mimetype": "text/x-python",
   "name": "python",
   "nbconvert_exporter": "python",
   "pygments_lexer": "ipython2",
   "version": "2.7.10"
  }
 },
 "nbformat": 4,
 "nbformat_minor": 0
}
